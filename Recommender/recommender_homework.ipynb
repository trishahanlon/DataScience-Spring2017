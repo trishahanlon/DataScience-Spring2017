{
 "cells": [
  {
   "cell_type": "markdown",
   "metadata": {},
   "source": [
    "## Trisha Moyer\n",
    "## Spring 2017"
   ]
  },
  {
   "cell_type": "code",
   "execution_count": 1,
   "metadata": {
    "collapsed": false
   },
   "outputs": [],
   "source": [
    "import pandas as pd\n",
    "import numpy as np"
   ]
  },
  {
   "cell_type": "code",
   "execution_count": 2,
   "metadata": {
    "collapsed": false
   },
   "outputs": [],
   "source": [
    "#download the class movie reviews from here:\n",
    "#https://docs.google.com/spreadsheets/d/17rCJzmWxqvAu9rkpkgt4ToccIlY4A1Ffuu1W9X3B8Ag/\n",
    "#then read that in as a pandas dataframe"
   ]
  },
  {
   "cell_type": "code",
   "execution_count": 3,
   "metadata": {
    "collapsed": false
   },
   "outputs": [],
   "source": [
    "M = pd.read_csv(\"\"\"MovieReviews.csv\"\"\", index_col='Name')"
   ]
  },
  {
   "cell_type": "code",
   "execution_count": 4,
   "metadata": {
    "collapsed": false
   },
   "outputs": [],
   "source": [
    "def pearson(s1, s2):\n",
    "    \"\"\"Take two pd.Series objects and return a pearson correlation.\"\"\"\n",
    "    s1_c = s1 - s1.mean()\n",
    "    s2_c = s2 - s2.mean()\n",
    "    return np.sum(s1_c * s2_c) / np.sqrt(np.sum(s1_c ** 2) * np.sum(s2_c ** 2))"
   ]
  },
  {
   "cell_type": "code",
   "execution_count": 5,
   "metadata": {
    "collapsed": false
   },
   "outputs": [],
   "source": [
    "def get_recs(movie_name, M, num):\n",
    "\n",
    "    import numpy as np\n",
    "    reviews = []\n",
    "    for title in M.columns:\n",
    "        if title == movie_name:\n",
    "            continue\n",
    "        cor = pearson(M[movie_name], M[title])\n",
    "        if np.isnan(cor):\n",
    "            continue\n",
    "        else:\n",
    "            reviews.append((title, cor))\n",
    "    \n",
    "    reviews.sort(key=lambda tup: tup[1], reverse=True)\n",
    "    return reviews[:num]\n",
    "\n",
    "    "
   ]
  },
  {
   "cell_type": "markdown",
   "metadata": {},
   "source": [
    "### Question 1:  What movie is most Similar to 'The fault in our stars' (60 pts)\n"
   ]
  },
  {
   "cell_type": "code",
   "execution_count": 6,
   "metadata": {
    "collapsed": false
   },
   "outputs": [],
   "source": [
    "rec = get_recs('The Fault in Our Stars', M, 1)"
   ]
  },
  {
   "cell_type": "code",
   "execution_count": 7,
   "metadata": {
    "collapsed": false
   },
   "outputs": [
    {
     "data": {
      "text/plain": [
       "[('Malificent', 0.20279670863265634)]"
      ]
     },
     "execution_count": 7,
     "metadata": {},
     "output_type": "execute_result"
    }
   ],
   "source": [
    "rec"
   ]
  },
  {
   "cell_type": "markdown",
   "metadata": {},
   "source": [
    "### Question 2:  Which movie(s) would you most like to see, based on your classmates experience? (40 pts)"
   ]
  },
  {
   "cell_type": "code",
   "execution_count": 8,
   "metadata": {
    "collapsed": false
   },
   "outputs": [
    {
     "name": "stdout",
     "output_type": "stream",
     "text": [
      "Big Hero 6                               5.0\n",
      "The Lego Movie                           5.0\n",
      "The Hunger Games: Mockingjay - Part 1    5.0\n",
      "How to Train your Dragon 2               4.0\n",
      "American Sniper                          4.0\n",
      "Transformers                             2.0\n",
      "Name: Trisha Moyer, dtype: float64\n",
      "fav movie: Big Hero 6\n"
     ]
    },
    {
     "name": "stderr",
     "output_type": "stream",
     "text": [
      "/Users/tehanlon/anaconda/lib/python3.5/site-packages/ipykernel/__main__.py:6: FutureWarning: sort is deprecated, use sort_values(inplace=True) for INPLACE sorting\n"
     ]
    }
   ],
   "source": [
    "#HINTS...\n",
    "\n",
    "#the movies I've seen\n",
    "my_ratings = M.ix['Trisha Moyer'].dropna()\n",
    "#the movie I've rated the highest\n",
    "my_ratings.sort(ascending=False)\n",
    "#the name of the movie I've rated the highest\n",
    "fav_movie = my_ratings.index[0]\n",
    "print(my_ratings)\n",
    "print(\"fav movie:\", fav_movie)\n",
    "recs = get_recs(fav_movie, M, 10)"
   ]
  },
  {
   "cell_type": "code",
   "execution_count": 9,
   "metadata": {
    "collapsed": false
   },
   "outputs": [
    {
     "data": {
      "text/plain": [
       "[('How to Train your Dragon 2', 0.14750447717903284),\n",
       " ('The Hunger Games: Mockingjay - Part 1', 0.12807012445051055),\n",
       " ('The Lego Movie', 0.10854071655054141),\n",
       " ('Guardians of the Galaxy', 0.072172240441681121),\n",
       " ('Transformers', 0.066844399296299303),\n",
       " ('Divergent', 0.061058504852763526),\n",
       " ('Unbroken', 0.010185695756330524),\n",
       " ('300: Rise of an Empire', -0.012588559159578952),\n",
       " ('Malificent', -0.062435715647824283),\n",
       " ('The Hobbit', -0.062520343753181537)]"
      ]
     },
     "execution_count": 9,
     "metadata": {},
     "output_type": "execute_result"
    }
   ],
   "source": [
    "recs\n",
    "#which is fine, but it recommends things i've already seen and has some negative correlations. so let's fix that"
   ]
  },
  {
   "cell_type": "code",
   "execution_count": 10,
   "metadata": {
    "collapsed": false
   },
   "outputs": [
    {
     "data": {
      "text/plain": [
       "[('How to Train your Dragon 2', 0.14750447717903284),\n",
       " ('The Hunger Games: Mockingjay - Part 1', 0.12807012445051055),\n",
       " ('The Lego Movie', 0.10854071655054141),\n",
       " ('Guardians of the Galaxy', 0.072172240441681121),\n",
       " ('Transformers', 0.066844399296299303),\n",
       " ('Divergent', 0.061058504852763526),\n",
       " ('Unbroken', 0.010185695756330524)]"
      ]
     },
     "execution_count": 10,
     "metadata": {},
     "output_type": "execute_result"
    }
   ],
   "source": [
    "#first get rid of the negative corrlateions\n",
    "recs_fixed = []\n",
    "for item in recs:\n",
    "    if item[1] < 0:\n",
    "        continue\n",
    "    else:\n",
    "        recs_fixed.append(item)\n",
    "\n",
    "recs_fixed"
   ]
  },
  {
   "cell_type": "code",
   "execution_count": 11,
   "metadata": {
    "collapsed": false
   },
   "outputs": [
    {
     "data": {
      "text/plain": [
       "['How to Train your Dragon 2',\n",
       " 'The Hunger Games: Mockingjay - Part 1',\n",
       " 'The Lego Movie',\n",
       " 'Guardians of the Galaxy',\n",
       " 'Transformers',\n",
       " 'Divergent',\n",
       " 'Unbroken']"
      ]
     },
     "execution_count": 11,
     "metadata": {},
     "output_type": "execute_result"
    }
   ],
   "source": [
    "#create a list of just the titles so I can eliminate ones I've already seen\n",
    "import operator\n",
    "recommendation_titles = list(map(operator.itemgetter(0), recs_fixed))\n",
    "recommendation_titles"
   ]
  },
  {
   "cell_type": "code",
   "execution_count": 12,
   "metadata": {
    "collapsed": false
   },
   "outputs": [
    {
     "data": {
      "text/plain": [
       "['Guardians of the Galaxy', 'Divergent', 'Unbroken']"
      ]
     },
     "execution_count": 12,
     "metadata": {},
     "output_type": "execute_result"
    }
   ],
   "source": [
    "#next, get rid of recommendations I've already seen\n",
    "recommendation_i_havent_seen = [x for x in recommendation_titles if x not in my_ratings]\n",
    "recommendation_i_havent_seen"
   ]
  },
  {
   "cell_type": "markdown",
   "metadata": {},
   "source": [
    "#### So I guess I would like to see Guardians of the Galaxy, Divergent, or Unbroken. "
   ]
  },
  {
   "cell_type": "markdown",
   "metadata": {},
   "source": [
    "### Question 3: Bonus Question...  For all the movies you haven't seen, can you predict how you'd rate them using your the class reviews? (10 pts)"
   ]
  },
  {
   "cell_type": "code",
   "execution_count": 13,
   "metadata": {
    "collapsed": false
   },
   "outputs": [],
   "source": [
    "my_ratings = M.ix['Trisha Moyer']"
   ]
  },
  {
   "cell_type": "code",
   "execution_count": 14,
   "metadata": {
    "collapsed": false,
    "scrolled": true
   },
   "outputs": [
    {
     "data": {
      "text/plain": [
       "American Sniper                          4.0\n",
       "The Hunger Games: Mockingjay - Part 1    5.0\n",
       "Guardians of the Galaxy                  NaN\n",
       "The Lego Movie                           5.0\n",
       "The Hobbit                               NaN\n",
       "Transformers                             2.0\n",
       "Malificent                               NaN\n",
       "Big Hero 6                               5.0\n",
       "Godzilla                                 NaN\n",
       "Interstellar                             NaN\n",
       "How to Train your Dragon 2               4.0\n",
       "Gone Girl                                NaN\n",
       "Divergent                                NaN\n",
       "The Fault in Our Stars                   NaN\n",
       "Unbroken                                 NaN\n",
       "300: Rise of an Empire                   NaN\n",
       "Name: Trisha Moyer, dtype: float64"
      ]
     },
     "execution_count": 14,
     "metadata": {},
     "output_type": "execute_result"
    }
   ],
   "source": [
    "my_ratings"
   ]
  },
  {
   "cell_type": "code",
   "execution_count": null,
   "metadata": {
    "collapsed": true
   },
   "outputs": [],
   "source": []
  }
 ],
 "metadata": {
  "kernelspec": {
   "display_name": "Python 3",
   "language": "python",
   "name": "python3"
  },
  "language_info": {
   "codemirror_mode": {
    "name": "ipython",
    "version": 3
   },
   "file_extension": ".py",
   "mimetype": "text/x-python",
   "name": "python",
   "nbconvert_exporter": "python",
   "pygments_lexer": "ipython3",
   "version": "3.5.2"
  }
 },
 "nbformat": 4,
 "nbformat_minor": 0
}
