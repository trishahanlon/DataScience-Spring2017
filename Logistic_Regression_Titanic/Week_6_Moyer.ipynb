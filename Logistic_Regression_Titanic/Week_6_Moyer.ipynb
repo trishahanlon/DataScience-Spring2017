{
 "cells": [
  {
   "cell_type": "markdown",
   "metadata": {},
   "source": [
    "## Trisha Moyer\n",
    "## Spring 2017"
   ]
  },
  {
   "cell_type": "code",
   "execution_count": 1,
   "metadata": {
    "collapsed": false
   },
   "outputs": [
    {
     "name": "stdout",
     "output_type": "stream",
     "text": [
      "Populating the interactive namespace from numpy and matplotlib\n"
     ]
    }
   ],
   "source": [
    "import pandas as pd\n",
    "#pd.set_option('display.max_columns', None)\n",
    "#pd.set_option('display.max_rows', None)\n",
    "%pylab inline"
   ]
  },
  {
   "cell_type": "code",
   "execution_count": 2,
   "metadata": {
    "collapsed": false
   },
   "outputs": [],
   "source": [
    "#reading the data from the disk into memory\n",
    "df = pd.read_csv(\"train.csv\")"
   ]
  },
  {
   "cell_type": "code",
   "execution_count": 3,
   "metadata": {
    "collapsed": false
   },
   "outputs": [
    {
     "data": {
      "text/plain": [
       "Index(['PassengerId', 'Survived', 'Pclass', 'Name', 'Sex', 'Age', 'SibSp',\n",
       "       'Parch', 'Ticket', 'Fare', 'Cabin', 'Embarked'],\n",
       "      dtype='object')"
      ]
     },
     "execution_count": 3,
     "metadata": {},
     "output_type": "execute_result"
    }
   ],
   "source": [
    "#Just a reminder, here are all the column names\n",
    "df.columns"
   ]
  },
  {
   "cell_type": "code",
   "execution_count": 4,
   "metadata": {
    "collapsed": false
   },
   "outputs": [],
   "source": [
    "#df"
   ]
  },
  {
   "cell_type": "code",
   "execution_count": 5,
   "metadata": {
    "collapsed": false
   },
   "outputs": [],
   "source": [
    "#I'm going to create a new dataframe and put only the three variables I'm going to be using into it.\n",
    "X = pd.DataFrame()\n",
    "X['Sex'] = df['Sex']\n",
    "X['survived'] = df['Survived']\n",
    "X['Fare'] = df['Fare']"
   ]
  },
  {
   "cell_type": "code",
   "execution_count": 6,
   "metadata": {
    "collapsed": false
   },
   "outputs": [],
   "source": [
    "#print(X)"
   ]
  },
  {
   "cell_type": "code",
   "execution_count": 7,
   "metadata": {
    "collapsed": false
   },
   "outputs": [
    {
     "name": "stdout",
     "output_type": "stream",
     "text": [
      "        Sex  survived      Fare\n",
      "0      male         0    7.2500\n",
      "1    female         1   71.2833\n",
      "2    female         1    7.9250\n",
      "3    female         1   53.1000\n",
      "4      male         0    8.0500\n",
      "5      male         0    8.4583\n",
      "6      male         0   51.8625\n",
      "7      male         0   21.0750\n",
      "8    female         1   11.1333\n",
      "9    female         1   30.0708\n",
      "10   female         1   16.7000\n",
      "11   female         1   26.5500\n",
      "12     male         0    8.0500\n",
      "13     male         0   31.2750\n",
      "14   female         0    7.8542\n",
      "15   female         1   16.0000\n",
      "16     male         0   29.1250\n",
      "17     male         1   13.0000\n",
      "18   female         0   18.0000\n",
      "19   female         1    7.2250\n",
      "20     male         0   26.0000\n",
      "21     male         1   13.0000\n",
      "22   female         1    8.0292\n",
      "23     male         1   35.5000\n",
      "24   female         0   21.0750\n",
      "25   female         1   31.3875\n",
      "26     male         0    7.2250\n",
      "27     male         0  263.0000\n",
      "28   female         1    7.8792\n",
      "29     male         0    7.8958\n",
      "..      ...       ...       ...\n",
      "861    male         0   11.5000\n",
      "862  female         1   25.9292\n",
      "863  female         0   69.5500\n",
      "864    male         0   13.0000\n",
      "865  female         1   13.0000\n",
      "866  female         1   13.8583\n",
      "867    male         0   50.4958\n",
      "868    male         0    9.5000\n",
      "869    male         1   11.1333\n",
      "870    male         0    7.8958\n",
      "871  female         1   52.5542\n",
      "872    male         0    5.0000\n",
      "873    male         0    9.0000\n",
      "874  female         1   24.0000\n",
      "875  female         1    7.2250\n",
      "876    male         0    9.8458\n",
      "877    male         0    7.8958\n",
      "878    male         0    7.8958\n",
      "879  female         1   83.1583\n",
      "880  female         1   26.0000\n",
      "881    male         0    7.8958\n",
      "882  female         0   10.5167\n",
      "883    male         0   10.5000\n",
      "884    male         0    7.0500\n",
      "885  female         0   29.1250\n",
      "886    male         0   13.0000\n",
      "887  female         1   30.0000\n",
      "888  female         0   23.4500\n",
      "889    male         1   30.0000\n",
      "890    male         0    7.7500\n",
      "\n",
      "[891 rows x 3 columns]\n"
     ]
    }
   ],
   "source": [
    "#I'm going to drop missing values.   That's probably NOT the best strategy, but it's usually good to start simple and \n",
    "#build complexity as you go.\n",
    "X = X.dropna(axis=0)\n",
    "print(X)"
   ]
  },
  {
   "cell_type": "markdown",
   "metadata": {},
   "source": [
    "### Survived Variable"
   ]
  },
  {
   "cell_type": "code",
   "execution_count": 8,
   "metadata": {
    "collapsed": false
   },
   "outputs": [],
   "source": [
    "#survived will be my dependent variable, y.   I'll assign it to y and remove it from X\n",
    "y = X['survived']\n",
    "X = X.drop(['survived'], axis=1)"
   ]
  },
  {
   "cell_type": "markdown",
   "metadata": {},
   "source": [
    "### Sex Variable"
   ]
  },
  {
   "cell_type": "code",
   "execution_count": 9,
   "metadata": {
    "collapsed": false
   },
   "outputs": [
    {
     "data": {
      "text/html": [
       "<div>\n",
       "<table border=\"1\" class=\"dataframe\">\n",
       "  <thead>\n",
       "    <tr style=\"text-align: right;\">\n",
       "      <th></th>\n",
       "      <th>female</th>\n",
       "      <th>male</th>\n",
       "    </tr>\n",
       "  </thead>\n",
       "  <tbody>\n",
       "    <tr>\n",
       "      <th>0</th>\n",
       "      <td>0.0</td>\n",
       "      <td>1.0</td>\n",
       "    </tr>\n",
       "    <tr>\n",
       "      <th>1</th>\n",
       "      <td>1.0</td>\n",
       "      <td>0.0</td>\n",
       "    </tr>\n",
       "    <tr>\n",
       "      <th>2</th>\n",
       "      <td>1.0</td>\n",
       "      <td>0.0</td>\n",
       "    </tr>\n",
       "    <tr>\n",
       "      <th>3</th>\n",
       "      <td>1.0</td>\n",
       "      <td>0.0</td>\n",
       "    </tr>\n",
       "    <tr>\n",
       "      <th>4</th>\n",
       "      <td>0.0</td>\n",
       "      <td>1.0</td>\n",
       "    </tr>\n",
       "    <tr>\n",
       "      <th>5</th>\n",
       "      <td>0.0</td>\n",
       "      <td>1.0</td>\n",
       "    </tr>\n",
       "    <tr>\n",
       "      <th>6</th>\n",
       "      <td>0.0</td>\n",
       "      <td>1.0</td>\n",
       "    </tr>\n",
       "    <tr>\n",
       "      <th>7</th>\n",
       "      <td>0.0</td>\n",
       "      <td>1.0</td>\n",
       "    </tr>\n",
       "    <tr>\n",
       "      <th>8</th>\n",
       "      <td>1.0</td>\n",
       "      <td>0.0</td>\n",
       "    </tr>\n",
       "    <tr>\n",
       "      <th>9</th>\n",
       "      <td>1.0</td>\n",
       "      <td>0.0</td>\n",
       "    </tr>\n",
       "    <tr>\n",
       "      <th>10</th>\n",
       "      <td>1.0</td>\n",
       "      <td>0.0</td>\n",
       "    </tr>\n",
       "    <tr>\n",
       "      <th>11</th>\n",
       "      <td>1.0</td>\n",
       "      <td>0.0</td>\n",
       "    </tr>\n",
       "    <tr>\n",
       "      <th>12</th>\n",
       "      <td>0.0</td>\n",
       "      <td>1.0</td>\n",
       "    </tr>\n",
       "    <tr>\n",
       "      <th>13</th>\n",
       "      <td>0.0</td>\n",
       "      <td>1.0</td>\n",
       "    </tr>\n",
       "    <tr>\n",
       "      <th>14</th>\n",
       "      <td>1.0</td>\n",
       "      <td>0.0</td>\n",
       "    </tr>\n",
       "    <tr>\n",
       "      <th>15</th>\n",
       "      <td>1.0</td>\n",
       "      <td>0.0</td>\n",
       "    </tr>\n",
       "    <tr>\n",
       "      <th>16</th>\n",
       "      <td>0.0</td>\n",
       "      <td>1.0</td>\n",
       "    </tr>\n",
       "    <tr>\n",
       "      <th>17</th>\n",
       "      <td>0.0</td>\n",
       "      <td>1.0</td>\n",
       "    </tr>\n",
       "    <tr>\n",
       "      <th>18</th>\n",
       "      <td>1.0</td>\n",
       "      <td>0.0</td>\n",
       "    </tr>\n",
       "    <tr>\n",
       "      <th>19</th>\n",
       "      <td>1.0</td>\n",
       "      <td>0.0</td>\n",
       "    </tr>\n",
       "    <tr>\n",
       "      <th>20</th>\n",
       "      <td>0.0</td>\n",
       "      <td>1.0</td>\n",
       "    </tr>\n",
       "    <tr>\n",
       "      <th>21</th>\n",
       "      <td>0.0</td>\n",
       "      <td>1.0</td>\n",
       "    </tr>\n",
       "    <tr>\n",
       "      <th>22</th>\n",
       "      <td>1.0</td>\n",
       "      <td>0.0</td>\n",
       "    </tr>\n",
       "    <tr>\n",
       "      <th>23</th>\n",
       "      <td>0.0</td>\n",
       "      <td>1.0</td>\n",
       "    </tr>\n",
       "    <tr>\n",
       "      <th>24</th>\n",
       "      <td>1.0</td>\n",
       "      <td>0.0</td>\n",
       "    </tr>\n",
       "    <tr>\n",
       "      <th>25</th>\n",
       "      <td>1.0</td>\n",
       "      <td>0.0</td>\n",
       "    </tr>\n",
       "    <tr>\n",
       "      <th>26</th>\n",
       "      <td>0.0</td>\n",
       "      <td>1.0</td>\n",
       "    </tr>\n",
       "    <tr>\n",
       "      <th>27</th>\n",
       "      <td>0.0</td>\n",
       "      <td>1.0</td>\n",
       "    </tr>\n",
       "    <tr>\n",
       "      <th>28</th>\n",
       "      <td>1.0</td>\n",
       "      <td>0.0</td>\n",
       "    </tr>\n",
       "    <tr>\n",
       "      <th>29</th>\n",
       "      <td>0.0</td>\n",
       "      <td>1.0</td>\n",
       "    </tr>\n",
       "    <tr>\n",
       "      <th>...</th>\n",
       "      <td>...</td>\n",
       "      <td>...</td>\n",
       "    </tr>\n",
       "    <tr>\n",
       "      <th>861</th>\n",
       "      <td>0.0</td>\n",
       "      <td>1.0</td>\n",
       "    </tr>\n",
       "    <tr>\n",
       "      <th>862</th>\n",
       "      <td>1.0</td>\n",
       "      <td>0.0</td>\n",
       "    </tr>\n",
       "    <tr>\n",
       "      <th>863</th>\n",
       "      <td>1.0</td>\n",
       "      <td>0.0</td>\n",
       "    </tr>\n",
       "    <tr>\n",
       "      <th>864</th>\n",
       "      <td>0.0</td>\n",
       "      <td>1.0</td>\n",
       "    </tr>\n",
       "    <tr>\n",
       "      <th>865</th>\n",
       "      <td>1.0</td>\n",
       "      <td>0.0</td>\n",
       "    </tr>\n",
       "    <tr>\n",
       "      <th>866</th>\n",
       "      <td>1.0</td>\n",
       "      <td>0.0</td>\n",
       "    </tr>\n",
       "    <tr>\n",
       "      <th>867</th>\n",
       "      <td>0.0</td>\n",
       "      <td>1.0</td>\n",
       "    </tr>\n",
       "    <tr>\n",
       "      <th>868</th>\n",
       "      <td>0.0</td>\n",
       "      <td>1.0</td>\n",
       "    </tr>\n",
       "    <tr>\n",
       "      <th>869</th>\n",
       "      <td>0.0</td>\n",
       "      <td>1.0</td>\n",
       "    </tr>\n",
       "    <tr>\n",
       "      <th>870</th>\n",
       "      <td>0.0</td>\n",
       "      <td>1.0</td>\n",
       "    </tr>\n",
       "    <tr>\n",
       "      <th>871</th>\n",
       "      <td>1.0</td>\n",
       "      <td>0.0</td>\n",
       "    </tr>\n",
       "    <tr>\n",
       "      <th>872</th>\n",
       "      <td>0.0</td>\n",
       "      <td>1.0</td>\n",
       "    </tr>\n",
       "    <tr>\n",
       "      <th>873</th>\n",
       "      <td>0.0</td>\n",
       "      <td>1.0</td>\n",
       "    </tr>\n",
       "    <tr>\n",
       "      <th>874</th>\n",
       "      <td>1.0</td>\n",
       "      <td>0.0</td>\n",
       "    </tr>\n",
       "    <tr>\n",
       "      <th>875</th>\n",
       "      <td>1.0</td>\n",
       "      <td>0.0</td>\n",
       "    </tr>\n",
       "    <tr>\n",
       "      <th>876</th>\n",
       "      <td>0.0</td>\n",
       "      <td>1.0</td>\n",
       "    </tr>\n",
       "    <tr>\n",
       "      <th>877</th>\n",
       "      <td>0.0</td>\n",
       "      <td>1.0</td>\n",
       "    </tr>\n",
       "    <tr>\n",
       "      <th>878</th>\n",
       "      <td>0.0</td>\n",
       "      <td>1.0</td>\n",
       "    </tr>\n",
       "    <tr>\n",
       "      <th>879</th>\n",
       "      <td>1.0</td>\n",
       "      <td>0.0</td>\n",
       "    </tr>\n",
       "    <tr>\n",
       "      <th>880</th>\n",
       "      <td>1.0</td>\n",
       "      <td>0.0</td>\n",
       "    </tr>\n",
       "    <tr>\n",
       "      <th>881</th>\n",
       "      <td>0.0</td>\n",
       "      <td>1.0</td>\n",
       "    </tr>\n",
       "    <tr>\n",
       "      <th>882</th>\n",
       "      <td>1.0</td>\n",
       "      <td>0.0</td>\n",
       "    </tr>\n",
       "    <tr>\n",
       "      <th>883</th>\n",
       "      <td>0.0</td>\n",
       "      <td>1.0</td>\n",
       "    </tr>\n",
       "    <tr>\n",
       "      <th>884</th>\n",
       "      <td>0.0</td>\n",
       "      <td>1.0</td>\n",
       "    </tr>\n",
       "    <tr>\n",
       "      <th>885</th>\n",
       "      <td>1.0</td>\n",
       "      <td>0.0</td>\n",
       "    </tr>\n",
       "    <tr>\n",
       "      <th>886</th>\n",
       "      <td>0.0</td>\n",
       "      <td>1.0</td>\n",
       "    </tr>\n",
       "    <tr>\n",
       "      <th>887</th>\n",
       "      <td>1.0</td>\n",
       "      <td>0.0</td>\n",
       "    </tr>\n",
       "    <tr>\n",
       "      <th>888</th>\n",
       "      <td>1.0</td>\n",
       "      <td>0.0</td>\n",
       "    </tr>\n",
       "    <tr>\n",
       "      <th>889</th>\n",
       "      <td>0.0</td>\n",
       "      <td>1.0</td>\n",
       "    </tr>\n",
       "    <tr>\n",
       "      <th>890</th>\n",
       "      <td>0.0</td>\n",
       "      <td>1.0</td>\n",
       "    </tr>\n",
       "  </tbody>\n",
       "</table>\n",
       "<p>891 rows × 2 columns</p>\n",
       "</div>"
      ],
      "text/plain": [
       "     female  male\n",
       "0       0.0   1.0\n",
       "1       1.0   0.0\n",
       "2       1.0   0.0\n",
       "3       1.0   0.0\n",
       "4       0.0   1.0\n",
       "5       0.0   1.0\n",
       "6       0.0   1.0\n",
       "7       0.0   1.0\n",
       "8       1.0   0.0\n",
       "9       1.0   0.0\n",
       "10      1.0   0.0\n",
       "11      1.0   0.0\n",
       "12      0.0   1.0\n",
       "13      0.0   1.0\n",
       "14      1.0   0.0\n",
       "15      1.0   0.0\n",
       "16      0.0   1.0\n",
       "17      0.0   1.0\n",
       "18      1.0   0.0\n",
       "19      1.0   0.0\n",
       "20      0.0   1.0\n",
       "21      0.0   1.0\n",
       "22      1.0   0.0\n",
       "23      0.0   1.0\n",
       "24      1.0   0.0\n",
       "25      1.0   0.0\n",
       "26      0.0   1.0\n",
       "27      0.0   1.0\n",
       "28      1.0   0.0\n",
       "29      0.0   1.0\n",
       "..      ...   ...\n",
       "861     0.0   1.0\n",
       "862     1.0   0.0\n",
       "863     1.0   0.0\n",
       "864     0.0   1.0\n",
       "865     1.0   0.0\n",
       "866     1.0   0.0\n",
       "867     0.0   1.0\n",
       "868     0.0   1.0\n",
       "869     0.0   1.0\n",
       "870     0.0   1.0\n",
       "871     1.0   0.0\n",
       "872     0.0   1.0\n",
       "873     0.0   1.0\n",
       "874     1.0   0.0\n",
       "875     1.0   0.0\n",
       "876     0.0   1.0\n",
       "877     0.0   1.0\n",
       "878     0.0   1.0\n",
       "879     1.0   0.0\n",
       "880     1.0   0.0\n",
       "881     0.0   1.0\n",
       "882     1.0   0.0\n",
       "883     0.0   1.0\n",
       "884     0.0   1.0\n",
       "885     1.0   0.0\n",
       "886     0.0   1.0\n",
       "887     1.0   0.0\n",
       "888     1.0   0.0\n",
       "889     0.0   1.0\n",
       "890     0.0   1.0\n",
       "\n",
       "[891 rows x 2 columns]"
      ]
     },
     "execution_count": 9,
     "metadata": {},
     "output_type": "execute_result"
    }
   ],
   "source": [
    "pd.get_dummies(X.Sex)"
   ]
  },
  {
   "cell_type": "code",
   "execution_count": 10,
   "metadata": {
    "collapsed": false
   },
   "outputs": [],
   "source": [
    "X['Sex'] = pd.get_dummies(X.Sex)['female']"
   ]
  },
  {
   "cell_type": "code",
   "execution_count": 11,
   "metadata": {
    "collapsed": false
   },
   "outputs": [
    {
     "name": "stdout",
     "output_type": "stream",
     "text": [
      "     Sex      Fare\n",
      "0    0.0    7.2500\n",
      "1    1.0   71.2833\n",
      "2    1.0    7.9250\n",
      "3    1.0   53.1000\n",
      "4    0.0    8.0500\n",
      "5    0.0    8.4583\n",
      "6    0.0   51.8625\n",
      "7    0.0   21.0750\n",
      "8    1.0   11.1333\n",
      "9    1.0   30.0708\n",
      "10   1.0   16.7000\n",
      "11   1.0   26.5500\n",
      "12   0.0    8.0500\n",
      "13   0.0   31.2750\n",
      "14   1.0    7.8542\n",
      "15   1.0   16.0000\n",
      "16   0.0   29.1250\n",
      "17   0.0   13.0000\n",
      "18   1.0   18.0000\n",
      "19   1.0    7.2250\n",
      "20   0.0   26.0000\n",
      "21   0.0   13.0000\n",
      "22   1.0    8.0292\n",
      "23   0.0   35.5000\n",
      "24   1.0   21.0750\n",
      "25   1.0   31.3875\n",
      "26   0.0    7.2250\n",
      "27   0.0  263.0000\n",
      "28   1.0    7.8792\n",
      "29   0.0    7.8958\n",
      "..   ...       ...\n",
      "861  0.0   11.5000\n",
      "862  1.0   25.9292\n",
      "863  1.0   69.5500\n",
      "864  0.0   13.0000\n",
      "865  1.0   13.0000\n",
      "866  1.0   13.8583\n",
      "867  0.0   50.4958\n",
      "868  0.0    9.5000\n",
      "869  0.0   11.1333\n",
      "870  0.0    7.8958\n",
      "871  1.0   52.5542\n",
      "872  0.0    5.0000\n",
      "873  0.0    9.0000\n",
      "874  1.0   24.0000\n",
      "875  1.0    7.2250\n",
      "876  0.0    9.8458\n",
      "877  0.0    7.8958\n",
      "878  0.0    7.8958\n",
      "879  1.0   83.1583\n",
      "880  1.0   26.0000\n",
      "881  0.0    7.8958\n",
      "882  1.0   10.5167\n",
      "883  0.0   10.5000\n",
      "884  0.0    7.0500\n",
      "885  1.0   29.1250\n",
      "886  0.0   13.0000\n",
      "887  1.0   30.0000\n",
      "888  1.0   23.4500\n",
      "889  0.0   30.0000\n",
      "890  0.0    7.7500\n",
      "\n",
      "[891 rows x 2 columns]\n"
     ]
    }
   ],
   "source": [
    "print(X)"
   ]
  },
  {
   "cell_type": "markdown",
   "metadata": {},
   "source": [
    "### Embarked Variable"
   ]
  },
  {
   "cell_type": "code",
   "execution_count": 12,
   "metadata": {
    "collapsed": false
   },
   "outputs": [
    {
     "name": "stdout",
     "output_type": "stream",
     "text": [
      "     embarked_C  embarked_Q  embarked_S  embarked_nan\n",
      "0           0.0         0.0         1.0           0.0\n",
      "1           1.0         0.0         0.0           0.0\n",
      "2           0.0         0.0         1.0           0.0\n",
      "3           0.0         0.0         1.0           0.0\n",
      "4           0.0         0.0         1.0           0.0\n",
      "5           0.0         1.0         0.0           0.0\n",
      "6           0.0         0.0         1.0           0.0\n",
      "7           0.0         0.0         1.0           0.0\n",
      "8           0.0         0.0         1.0           0.0\n",
      "9           1.0         0.0         0.0           0.0\n",
      "10          0.0         0.0         1.0           0.0\n",
      "11          0.0         0.0         1.0           0.0\n",
      "12          0.0         0.0         1.0           0.0\n",
      "13          0.0         0.0         1.0           0.0\n",
      "14          0.0         0.0         1.0           0.0\n",
      "15          0.0         0.0         1.0           0.0\n",
      "16          0.0         1.0         0.0           0.0\n",
      "17          0.0         0.0         1.0           0.0\n",
      "18          0.0         0.0         1.0           0.0\n",
      "19          1.0         0.0         0.0           0.0\n",
      "20          0.0         0.0         1.0           0.0\n",
      "21          0.0         0.0         1.0           0.0\n",
      "22          0.0         1.0         0.0           0.0\n",
      "23          0.0         0.0         1.0           0.0\n",
      "24          0.0         0.0         1.0           0.0\n",
      "25          0.0         0.0         1.0           0.0\n",
      "26          1.0         0.0         0.0           0.0\n",
      "27          0.0         0.0         1.0           0.0\n",
      "28          0.0         1.0         0.0           0.0\n",
      "29          0.0         0.0         1.0           0.0\n",
      "..          ...         ...         ...           ...\n",
      "861         0.0         0.0         1.0           0.0\n",
      "862         0.0         0.0         1.0           0.0\n",
      "863         0.0         0.0         1.0           0.0\n",
      "864         0.0         0.0         1.0           0.0\n",
      "865         0.0         0.0         1.0           0.0\n",
      "866         1.0         0.0         0.0           0.0\n",
      "867         0.0         0.0         1.0           0.0\n",
      "868         0.0         0.0         1.0           0.0\n",
      "869         0.0         0.0         1.0           0.0\n",
      "870         0.0         0.0         1.0           0.0\n",
      "871         0.0         0.0         1.0           0.0\n",
      "872         0.0         0.0         1.0           0.0\n",
      "873         0.0         0.0         1.0           0.0\n",
      "874         1.0         0.0         0.0           0.0\n",
      "875         1.0         0.0         0.0           0.0\n",
      "876         0.0         0.0         1.0           0.0\n",
      "877         0.0         0.0         1.0           0.0\n",
      "878         0.0         0.0         1.0           0.0\n",
      "879         1.0         0.0         0.0           0.0\n",
      "880         0.0         0.0         1.0           0.0\n",
      "881         0.0         0.0         1.0           0.0\n",
      "882         0.0         0.0         1.0           0.0\n",
      "883         0.0         0.0         1.0           0.0\n",
      "884         0.0         0.0         1.0           0.0\n",
      "885         0.0         1.0         0.0           0.0\n",
      "886         0.0         0.0         1.0           0.0\n",
      "887         0.0         0.0         1.0           0.0\n",
      "888         0.0         0.0         1.0           0.0\n",
      "889         1.0         0.0         0.0           0.0\n",
      "890         0.0         1.0         0.0           0.0\n",
      "\n",
      "[891 rows x 4 columns]\n"
     ]
    }
   ],
   "source": [
    "#create indicator variables for C, S, Q, and nan\n",
    "df_embarked = pd.get_dummies(df.Embarked, dummy_na=True, prefix='embarked')\n",
    "print(df_embarked)"
   ]
  },
  {
   "cell_type": "code",
   "execution_count": 13,
   "metadata": {
    "collapsed": false
   },
   "outputs": [],
   "source": [
    "#drop the missing values, nan\n",
    "df_embarked.drop(['embarked_nan'], axis=1, inplace=True)"
   ]
  },
  {
   "cell_type": "code",
   "execution_count": 14,
   "metadata": {
    "collapsed": false
   },
   "outputs": [],
   "source": [
    "X = pd.concat([X, df_embarked], join='inner', axis=1)"
   ]
  },
  {
   "cell_type": "code",
   "execution_count": 15,
   "metadata": {
    "collapsed": false
   },
   "outputs": [
    {
     "name": "stdout",
     "output_type": "stream",
     "text": [
      "     Sex      Fare  embarked_C  embarked_Q  embarked_S\n",
      "0    0.0    7.2500         0.0         0.0         1.0\n",
      "1    1.0   71.2833         1.0         0.0         0.0\n",
      "2    1.0    7.9250         0.0         0.0         1.0\n",
      "3    1.0   53.1000         0.0         0.0         1.0\n",
      "4    0.0    8.0500         0.0         0.0         1.0\n",
      "5    0.0    8.4583         0.0         1.0         0.0\n",
      "6    0.0   51.8625         0.0         0.0         1.0\n",
      "7    0.0   21.0750         0.0         0.0         1.0\n",
      "8    1.0   11.1333         0.0         0.0         1.0\n",
      "9    1.0   30.0708         1.0         0.0         0.0\n",
      "10   1.0   16.7000         0.0         0.0         1.0\n",
      "11   1.0   26.5500         0.0         0.0         1.0\n",
      "12   0.0    8.0500         0.0         0.0         1.0\n",
      "13   0.0   31.2750         0.0         0.0         1.0\n",
      "14   1.0    7.8542         0.0         0.0         1.0\n",
      "15   1.0   16.0000         0.0         0.0         1.0\n",
      "16   0.0   29.1250         0.0         1.0         0.0\n",
      "17   0.0   13.0000         0.0         0.0         1.0\n",
      "18   1.0   18.0000         0.0         0.0         1.0\n",
      "19   1.0    7.2250         1.0         0.0         0.0\n",
      "20   0.0   26.0000         0.0         0.0         1.0\n",
      "21   0.0   13.0000         0.0         0.0         1.0\n",
      "22   1.0    8.0292         0.0         1.0         0.0\n",
      "23   0.0   35.5000         0.0         0.0         1.0\n",
      "24   1.0   21.0750         0.0         0.0         1.0\n",
      "25   1.0   31.3875         0.0         0.0         1.0\n",
      "26   0.0    7.2250         1.0         0.0         0.0\n",
      "27   0.0  263.0000         0.0         0.0         1.0\n",
      "28   1.0    7.8792         0.0         1.0         0.0\n",
      "29   0.0    7.8958         0.0         0.0         1.0\n",
      "..   ...       ...         ...         ...         ...\n",
      "861  0.0   11.5000         0.0         0.0         1.0\n",
      "862  1.0   25.9292         0.0         0.0         1.0\n",
      "863  1.0   69.5500         0.0         0.0         1.0\n",
      "864  0.0   13.0000         0.0         0.0         1.0\n",
      "865  1.0   13.0000         0.0         0.0         1.0\n",
      "866  1.0   13.8583         1.0         0.0         0.0\n",
      "867  0.0   50.4958         0.0         0.0         1.0\n",
      "868  0.0    9.5000         0.0         0.0         1.0\n",
      "869  0.0   11.1333         0.0         0.0         1.0\n",
      "870  0.0    7.8958         0.0         0.0         1.0\n",
      "871  1.0   52.5542         0.0         0.0         1.0\n",
      "872  0.0    5.0000         0.0         0.0         1.0\n",
      "873  0.0    9.0000         0.0         0.0         1.0\n",
      "874  1.0   24.0000         1.0         0.0         0.0\n",
      "875  1.0    7.2250         1.0         0.0         0.0\n",
      "876  0.0    9.8458         0.0         0.0         1.0\n",
      "877  0.0    7.8958         0.0         0.0         1.0\n",
      "878  0.0    7.8958         0.0         0.0         1.0\n",
      "879  1.0   83.1583         1.0         0.0         0.0\n",
      "880  1.0   26.0000         0.0         0.0         1.0\n",
      "881  0.0    7.8958         0.0         0.0         1.0\n",
      "882  1.0   10.5167         0.0         0.0         1.0\n",
      "883  0.0   10.5000         0.0         0.0         1.0\n",
      "884  0.0    7.0500         0.0         0.0         1.0\n",
      "885  1.0   29.1250         0.0         1.0         0.0\n",
      "886  0.0   13.0000         0.0         0.0         1.0\n",
      "887  1.0   30.0000         0.0         0.0         1.0\n",
      "888  1.0   23.4500         0.0         0.0         1.0\n",
      "889  0.0   30.0000         1.0         0.0         0.0\n",
      "890  0.0    7.7500         0.0         1.0         0.0\n",
      "\n",
      "[891 rows x 5 columns]\n"
     ]
    }
   ],
   "source": [
    "print(X)"
   ]
  },
  {
   "cell_type": "markdown",
   "metadata": {},
   "source": [
    "### PClass"
   ]
  },
  {
   "cell_type": "code",
   "execution_count": 16,
   "metadata": {
    "collapsed": false
   },
   "outputs": [
    {
     "name": "stdout",
     "output_type": "stream",
     "text": [
      "     pclass_1.0  pclass_2.0  pclass_3.0  pclass_nan\n",
      "0           0.0         0.0         1.0         0.0\n",
      "1           1.0         0.0         0.0         0.0\n",
      "2           0.0         0.0         1.0         0.0\n",
      "3           1.0         0.0         0.0         0.0\n",
      "4           0.0         0.0         1.0         0.0\n",
      "5           0.0         0.0         1.0         0.0\n",
      "6           1.0         0.0         0.0         0.0\n",
      "7           0.0         0.0         1.0         0.0\n",
      "8           0.0         0.0         1.0         0.0\n",
      "9           0.0         1.0         0.0         0.0\n",
      "10          0.0         0.0         1.0         0.0\n",
      "11          1.0         0.0         0.0         0.0\n",
      "12          0.0         0.0         1.0         0.0\n",
      "13          0.0         0.0         1.0         0.0\n",
      "14          0.0         0.0         1.0         0.0\n",
      "15          0.0         1.0         0.0         0.0\n",
      "16          0.0         0.0         1.0         0.0\n",
      "17          0.0         1.0         0.0         0.0\n",
      "18          0.0         0.0         1.0         0.0\n",
      "19          0.0         0.0         1.0         0.0\n",
      "20          0.0         1.0         0.0         0.0\n",
      "21          0.0         1.0         0.0         0.0\n",
      "22          0.0         0.0         1.0         0.0\n",
      "23          1.0         0.0         0.0         0.0\n",
      "24          0.0         0.0         1.0         0.0\n",
      "25          0.0         0.0         1.0         0.0\n",
      "26          0.0         0.0         1.0         0.0\n",
      "27          1.0         0.0         0.0         0.0\n",
      "28          0.0         0.0         1.0         0.0\n",
      "29          0.0         0.0         1.0         0.0\n",
      "..          ...         ...         ...         ...\n",
      "861         0.0         1.0         0.0         0.0\n",
      "862         1.0         0.0         0.0         0.0\n",
      "863         0.0         0.0         1.0         0.0\n",
      "864         0.0         1.0         0.0         0.0\n",
      "865         0.0         1.0         0.0         0.0\n",
      "866         0.0         1.0         0.0         0.0\n",
      "867         1.0         0.0         0.0         0.0\n",
      "868         0.0         0.0         1.0         0.0\n",
      "869         0.0         0.0         1.0         0.0\n",
      "870         0.0         0.0         1.0         0.0\n",
      "871         1.0         0.0         0.0         0.0\n",
      "872         1.0         0.0         0.0         0.0\n",
      "873         0.0         0.0         1.0         0.0\n",
      "874         0.0         1.0         0.0         0.0\n",
      "875         0.0         0.0         1.0         0.0\n",
      "876         0.0         0.0         1.0         0.0\n",
      "877         0.0         0.0         1.0         0.0\n",
      "878         0.0         0.0         1.0         0.0\n",
      "879         1.0         0.0         0.0         0.0\n",
      "880         0.0         1.0         0.0         0.0\n",
      "881         0.0         0.0         1.0         0.0\n",
      "882         0.0         0.0         1.0         0.0\n",
      "883         0.0         1.0         0.0         0.0\n",
      "884         0.0         0.0         1.0         0.0\n",
      "885         0.0         0.0         1.0         0.0\n",
      "886         0.0         1.0         0.0         0.0\n",
      "887         1.0         0.0         0.0         0.0\n",
      "888         0.0         0.0         1.0         0.0\n",
      "889         1.0         0.0         0.0         0.0\n",
      "890         0.0         0.0         1.0         0.0\n",
      "\n",
      "[891 rows x 4 columns]\n"
     ]
    }
   ],
   "source": [
    "#create indicator variables for pclass of 1, 2, 3, and nan\n",
    "df_pclass = pd.get_dummies(df.Pclass, dummy_na=True, prefix='pclass')\n",
    "print(df_pclass)"
   ]
  },
  {
   "cell_type": "code",
   "execution_count": 17,
   "metadata": {
    "collapsed": true
   },
   "outputs": [],
   "source": [
    "df_pclass.drop(['pclass_nan'],axis=1, inplace=True)"
   ]
  },
  {
   "cell_type": "code",
   "execution_count": 18,
   "metadata": {
    "collapsed": false
   },
   "outputs": [],
   "source": [
    "X = pd.concat([X, df_embarked, df_pclass], join='inner', axis=1)"
   ]
  },
  {
   "cell_type": "markdown",
   "metadata": {},
   "source": [
    "### Ticket"
   ]
  },
  {
   "cell_type": "code",
   "execution_count": 19,
   "metadata": {
    "collapsed": false
   },
   "outputs": [],
   "source": [
    "#df_new = df[df['Ticket'].str.contains(\"347082\")==True]\n",
    "#print(df_new)"
   ]
  },
  {
   "cell_type": "code",
   "execution_count": 20,
   "metadata": {
    "collapsed": false
   },
   "outputs": [],
   "source": [
    "#df_ticket = pd.get_dummies(df_new, dummy_na=True, prefix='ticket')\n",
    "#print(df_ticket)"
   ]
  },
  {
   "cell_type": "code",
   "execution_count": 21,
   "metadata": {
    "collapsed": true
   },
   "outputs": [],
   "source": [
    "#df_ticket.drop(['ticket_nan'],axis=1, inplace=True)"
   ]
  },
  {
   "cell_type": "code",
   "execution_count": 22,
   "metadata": {
    "collapsed": false
   },
   "outputs": [],
   "source": [
    "#pd.concat([X, df_embarked, df_pclass, df_ticket], join='inner', axis=1)"
   ]
  },
  {
   "cell_type": "markdown",
   "metadata": {},
   "source": [
    "### SibSp (sibling/spouses)"
   ]
  },
  {
   "cell_type": "code",
   "execution_count": 23,
   "metadata": {
    "collapsed": true
   },
   "outputs": [],
   "source": [
    "df_sibsp = pd.get_dummies(df.SibSp, dummy_na=True, prefix='SibSp')"
   ]
  },
  {
   "cell_type": "code",
   "execution_count": 24,
   "metadata": {
    "collapsed": true
   },
   "outputs": [],
   "source": [
    "df_sibsp.drop(['SibSp_nan'],axis=1, inplace=True)"
   ]
  },
  {
   "cell_type": "code",
   "execution_count": 25,
   "metadata": {
    "collapsed": false
   },
   "outputs": [],
   "source": [
    "X = pd.concat([X, df_embarked, df_pclass, df_sibsp], join='inner', axis=1)"
   ]
  },
  {
   "cell_type": "code",
   "execution_count": 29,
   "metadata": {
    "collapsed": false
   },
   "outputs": [],
   "source": [
    "#remember to scale our features, as with linear regression\n",
    "from sklearn.cross_validation import train_test_split\n",
    "from sklearn.preprocessing import StandardScaler\n",
    "scaler = StandardScaler()\n",
    "X= scaler.fit_transform(X)"
   ]
  },
  {
   "cell_type": "code",
   "execution_count": 30,
   "metadata": {
    "collapsed": false
   },
   "outputs": [],
   "source": [
    "#build test and training sets\n",
    "X_train, X_test, y_train, y_test = train_test_split(X, y, test_size=0.2, random_state=42)"
   ]
  },
  {
   "cell_type": "code",
   "execution_count": 31,
   "metadata": {
    "collapsed": false
   },
   "outputs": [],
   "source": [
    "from sklearn.linear_model import LogisticRegression\n",
    "model = LogisticRegression(penalty='l2', C=1)"
   ]
  },
  {
   "cell_type": "code",
   "execution_count": 32,
   "metadata": {
    "collapsed": false
   },
   "outputs": [
    {
     "data": {
      "text/plain": [
       "LogisticRegression(C=1, class_weight=None, dual=False, fit_intercept=True,\n",
       "          intercept_scaling=1, max_iter=100, multi_class='ovr', n_jobs=1,\n",
       "          penalty='l2', random_state=None, solver='liblinear', tol=0.0001,\n",
       "          verbose=0, warm_start=False)"
      ]
     },
     "execution_count": 32,
     "metadata": {},
     "output_type": "execute_result"
    }
   ],
   "source": [
    "model.fit(X_train, y_train)"
   ]
  },
  {
   "cell_type": "code",
   "execution_count": 33,
   "metadata": {
    "collapsed": false
   },
   "outputs": [],
   "source": [
    "from sklearn.metrics import roc_auc_score\n",
    "from sklearn.metrics import classification_report"
   ]
  },
  {
   "cell_type": "code",
   "execution_count": 34,
   "metadata": {
    "collapsed": false
   },
   "outputs": [
    {
     "name": "stdout",
     "output_type": "stream",
     "text": [
      "\n",
      "\n",
      "---Logistic Model---\n",
      "Logistic AUC = 0.78\n",
      "             precision    recall  f1-score   support\n",
      "\n",
      "          0       0.80      0.85      0.82       105\n",
      "          1       0.76      0.70      0.73        74\n",
      "\n",
      "avg / total       0.79      0.79      0.79       179\n",
      "\n"
     ]
    }
   ],
   "source": [
    "print(\"\\n\\n---Logistic Model---\")\n",
    "#logistic AUC\n",
    "logit_roc_auc = roc_auc_score(y_test, model.predict(X_test))\n",
    "print(\"Logistic AUC = %2.2f\" % logit_roc_auc)\n",
    "print(classification_report(y_test, model.predict(X_test) ))"
   ]
  },
  {
   "cell_type": "code",
   "execution_count": null,
   "metadata": {
    "collapsed": true
   },
   "outputs": [],
   "source": []
  }
 ],
 "metadata": {
  "kernelspec": {
   "display_name": "Python 3",
   "language": "python",
   "name": "python3"
  },
  "language_info": {
   "codemirror_mode": {
    "name": "ipython",
    "version": 3
   },
   "file_extension": ".py",
   "mimetype": "text/x-python",
   "name": "python",
   "nbconvert_exporter": "python",
   "pygments_lexer": "ipython3",
   "version": "3.5.2"
  }
 },
 "nbformat": 4,
 "nbformat_minor": 0
}
